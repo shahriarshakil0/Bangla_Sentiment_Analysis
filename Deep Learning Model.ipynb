{
 "cells": [
  {
   "cell_type": "code",
   "execution_count": 1,
   "metadata": {
    "id": "Fv3H_8PTPbTk"
   },
   "outputs": [
    {
     "name": "stderr",
     "output_type": "stream",
     "text": [
      "2021-08-06 15:53:24.249706: I tensorflow/stream_executor/platform/default/dso_loader.cc:53] Successfully opened dynamic library libcudart.so.11.0\n"
     ]
    }
   ],
   "source": [
    "import numpy as np\n",
    "import matplotlib.pyplot as plt\n",
    "%matplotlib inline\n",
    "import pandas as pd\n",
    "import seaborn as sns\n",
    "import re,nltk,json, pickle\n",
    "import tensorflow as tf\n",
    "from tensorflow import keras\n",
    "from tensorflow.keras import regularizers\n",
    "from tensorflow.keras.preprocessing.sequence import pad_sequences\n",
    "from tensorflow.keras.layers import LSTM,GRU\n",
    "from tensorflow.keras.models import load_model\n",
    "from sklearn.metrics import confusion_matrix\n",
    "from sklearn.metrics import classification_report \n",
    "from sklearn.model_selection import train_test_split\n",
    "from sklearn.metrics import accuracy_score,precision_score,recall_score,f1_score,roc_auc_score\n",
    "from sklearn.preprocessing import LabelEncoder\n",
    "from tensorflow.keras.preprocessing.text import Tokenizer\n",
    "np.random.seed(42)\n",
    "class color: # Text style\n",
    "   PURPLE = '\\033[95m'\n",
    "   CYAN = '\\033[96m'\n",
    "   DARKCYAN = '\\033[36m'\n",
    "   BLUE = '\\033[94m'\n",
    "   GREEN = '\\033[92m'\n",
    "   YELLOW = '\\033[93m'\n",
    "   RED = '\\033[91m'\n",
    "   BOLD = '\\033[1m'\n",
    "   UNDERLINE = '\\033[4m'\n",
    "   END = '\\033[0m'"
   ]
  },
  {
   "cell_type": "code",
   "execution_count": 2,
   "metadata": {
    "id": "M3bKUclNPoUp"
   },
   "outputs": [],
   "source": [
    "# Warnings\n",
    "import warnings\n",
    "warnings.simplefilter(action='ignore', category=FutureWarning)\n"
   ]
  },
  {
   "cell_type": "code",
   "execution_count": 3,
   "metadata": {
    "colab": {
     "base_uri": "https://localhost:8080/"
    },
    "id": "1AFn8VW8RWvR",
    "outputId": "cf33c53b-d6d5-4f22-f2a3-92174e8d428d"
   },
   "outputs": [
    {
     "name": "stdout",
     "output_type": "stream",
     "text": [
      "2.5.0\n"
     ]
    }
   ],
   "source": [
    "import tensorflow as tf\n",
    "print(tf.__version__)"
   ]
  },
  {
   "cell_type": "code",
   "execution_count": 4,
   "metadata": {
    "colab": {
     "base_uri": "https://localhost:8080/"
    },
    "id": "8ROHJhVNRd26",
    "outputId": "f895597c-cd67-44c1-8976-0212d08a2fcf"
   },
   "outputs": [
    {
     "name": "stdout",
     "output_type": "stream",
     "text": [
      "2.5.0\n"
     ]
    }
   ],
   "source": [
    "print(tf.keras.__version__)"
   ]
  },
  {
   "cell_type": "code",
   "execution_count": 5,
   "metadata": {
    "colab": {
     "base_uri": "https://localhost:8080/"
    },
    "id": "-ry2nCpCRt2Y",
    "outputId": "79c1ab6d-9397-4564-d8e3-6172c4b6b3b6"
   },
   "outputs": [
    {
     "data": {
      "text/html": [
       "<div>\n",
       "<style scoped>\n",
       "    .dataframe tbody tr th:only-of-type {\n",
       "        vertical-align: middle;\n",
       "    }\n",
       "\n",
       "    .dataframe tbody tr th {\n",
       "        vertical-align: top;\n",
       "    }\n",
       "\n",
       "    .dataframe thead th {\n",
       "        text-align: right;\n",
       "    }\n",
       "</style>\n",
       "<table border=\"1\" class=\"dataframe\">\n",
       "  <thead>\n",
       "    <tr style=\"text-align: right;\">\n",
       "      <th></th>\n",
       "      <th>Conversation</th>\n",
       "      <th>Sentiment</th>\n",
       "    </tr>\n",
       "  </thead>\n",
       "  <tbody>\n",
       "    <tr>\n",
       "      <th>0</th>\n",
       "      <td>আমি বুথ থেকে কল দেয়ার জন্য দুঃখিত</td>\n",
       "      <td>negative</td>\n",
       "    </tr>\n",
       "    <tr>\n",
       "      <th>1</th>\n",
       "      <td>আমি তোমার সম্পর্কে দুঃখিত</td>\n",
       "      <td>negative</td>\n",
       "    </tr>\n",
       "    <tr>\n",
       "      <th>2</th>\n",
       "      <td>আমার ভয় হচ্ছিল আমি খুব ভয় পেয়েছিলাম</td>\n",
       "      <td>negative</td>\n",
       "    </tr>\n",
       "    <tr>\n",
       "      <th>3</th>\n",
       "      <td>অবশ্যই ধন্যবাদ</td>\n",
       "      <td>positive</td>\n",
       "    </tr>\n",
       "    <tr>\n",
       "      <th>4</th>\n",
       "      <td>কী সুন্দর!! আমি খুব খুশি</td>\n",
       "      <td>positive</td>\n",
       "    </tr>\n",
       "    <tr>\n",
       "      <th>...</th>\n",
       "      <td>...</td>\n",
       "      <td>...</td>\n",
       "    </tr>\n",
       "    <tr>\n",
       "      <th>1136</th>\n",
       "      <td>ওই, কে রে শালা তুই?</td>\n",
       "      <td>negative</td>\n",
       "    </tr>\n",
       "    <tr>\n",
       "      <th>1137</th>\n",
       "      <td>সবকিছুই পরিকল্পনা মাফিক হবে</td>\n",
       "      <td>positive</td>\n",
       "    </tr>\n",
       "    <tr>\n",
       "      <th>1138</th>\n",
       "      <td>তুই কোন নরক থেকে এসেছিস রে?</td>\n",
       "      <td>negative</td>\n",
       "    </tr>\n",
       "    <tr>\n",
       "      <th>1139</th>\n",
       "      <td>এখানেই মরবি তুই।</td>\n",
       "      <td>negative</td>\n",
       "    </tr>\n",
       "    <tr>\n",
       "      <th>1140</th>\n",
       "      <td>আপনি যা করেছেন তার জন্যে আপনাকে মেরে ফেলা উচিত</td>\n",
       "      <td>negative</td>\n",
       "    </tr>\n",
       "  </tbody>\n",
       "</table>\n",
       "<p>1141 rows × 2 columns</p>\n",
       "</div>"
      ],
      "text/plain": [
       "                                        Conversation Sentiment\n",
       "0                  আমি বুথ থেকে কল দেয়ার জন্য দুঃখিত  negative\n",
       "1                          আমি তোমার সম্পর্কে দুঃখিত  negative\n",
       "2              আমার ভয় হচ্ছিল আমি খুব ভয় পেয়েছিলাম  negative\n",
       "3                                    অবশ্যই ধন্যবাদ   positive\n",
       "4                           কী সুন্দর!! আমি খুব খুশি  positive\n",
       "...                                              ...       ...\n",
       "1136                             ওই, কে রে শালা তুই?  negative\n",
       "1137                     সবকিছুই পরিকল্পনা মাফিক হবে  positive\n",
       "1138                     তুই কোন নরক থেকে এসেছিস রে?  negative\n",
       "1139                                এখানেই মরবি তুই।  negative\n",
       "1140  আপনি যা করেছেন তার জন্যে আপনাকে মেরে ফেলা উচিত  negative\n",
       "\n",
       "[1141 rows x 2 columns]"
      ]
     },
     "execution_count": 5,
     "metadata": {},
     "output_type": "execute_result"
    }
   ],
   "source": [
    "# Read the data\n",
    "data = pd.read_csv(\"Conversation.csv\")\n",
    "data"
   ]
  },
  {
   "cell_type": "code",
   "execution_count": 7,
   "metadata": {
    "id": "0hW-95OVdSGK"
   },
   "outputs": [],
   "source": [
    "data = data[['Conversation','Sentiment']]"
   ]
  },
  {
   "cell_type": "code",
   "execution_count": 8,
   "metadata": {
    "colab": {
     "base_uri": "https://localhost:8080/",
     "height": 419
    },
    "id": "ehyJdMlQdTzX",
    "outputId": "d7510faa-ee97-41af-f7e1-feb620d1e70b"
   },
   "outputs": [
    {
     "data": {
      "text/html": [
       "<div>\n",
       "<style scoped>\n",
       "    .dataframe tbody tr th:only-of-type {\n",
       "        vertical-align: middle;\n",
       "    }\n",
       "\n",
       "    .dataframe tbody tr th {\n",
       "        vertical-align: top;\n",
       "    }\n",
       "\n",
       "    .dataframe thead th {\n",
       "        text-align: right;\n",
       "    }\n",
       "</style>\n",
       "<table border=\"1\" class=\"dataframe\">\n",
       "  <thead>\n",
       "    <tr style=\"text-align: right;\">\n",
       "      <th></th>\n",
       "      <th>Conversation</th>\n",
       "      <th>Sentiment</th>\n",
       "    </tr>\n",
       "  </thead>\n",
       "  <tbody>\n",
       "    <tr>\n",
       "      <th>0</th>\n",
       "      <td>আমি বুথ থেকে কল দেয়ার জন্য দুঃখিত</td>\n",
       "      <td>negative</td>\n",
       "    </tr>\n",
       "    <tr>\n",
       "      <th>1</th>\n",
       "      <td>আমি তোমার সম্পর্কে দুঃখিত</td>\n",
       "      <td>negative</td>\n",
       "    </tr>\n",
       "    <tr>\n",
       "      <th>2</th>\n",
       "      <td>আমার ভয় হচ্ছিল আমি খুব ভয় পেয়েছিলাম</td>\n",
       "      <td>negative</td>\n",
       "    </tr>\n",
       "    <tr>\n",
       "      <th>3</th>\n",
       "      <td>অবশ্যই ধন্যবাদ</td>\n",
       "      <td>positive</td>\n",
       "    </tr>\n",
       "    <tr>\n",
       "      <th>4</th>\n",
       "      <td>কী সুন্দর!! আমি খুব খুশি</td>\n",
       "      <td>positive</td>\n",
       "    </tr>\n",
       "    <tr>\n",
       "      <th>...</th>\n",
       "      <td>...</td>\n",
       "      <td>...</td>\n",
       "    </tr>\n",
       "    <tr>\n",
       "      <th>1136</th>\n",
       "      <td>ওই, কে রে শালা তুই?</td>\n",
       "      <td>negative</td>\n",
       "    </tr>\n",
       "    <tr>\n",
       "      <th>1137</th>\n",
       "      <td>সবকিছুই পরিকল্পনা মাফিক হবে</td>\n",
       "      <td>positive</td>\n",
       "    </tr>\n",
       "    <tr>\n",
       "      <th>1138</th>\n",
       "      <td>তুই কোন নরক থেকে এসেছিস রে?</td>\n",
       "      <td>negative</td>\n",
       "    </tr>\n",
       "    <tr>\n",
       "      <th>1139</th>\n",
       "      <td>এখানেই মরবি তুই।</td>\n",
       "      <td>negative</td>\n",
       "    </tr>\n",
       "    <tr>\n",
       "      <th>1140</th>\n",
       "      <td>আপনি যা করেছেন তার জন্যে আপনাকে মেরে ফেলা উচিত</td>\n",
       "      <td>negative</td>\n",
       "    </tr>\n",
       "  </tbody>\n",
       "</table>\n",
       "<p>1141 rows × 2 columns</p>\n",
       "</div>"
      ],
      "text/plain": [
       "                                        Conversation Sentiment\n",
       "0                  আমি বুথ থেকে কল দেয়ার জন্য দুঃখিত  negative\n",
       "1                          আমি তোমার সম্পর্কে দুঃখিত  negative\n",
       "2              আমার ভয় হচ্ছিল আমি খুব ভয় পেয়েছিলাম  negative\n",
       "3                                    অবশ্যই ধন্যবাদ   positive\n",
       "4                           কী সুন্দর!! আমি খুব খুশি  positive\n",
       "...                                              ...       ...\n",
       "1136                             ওই, কে রে শালা তুই?  negative\n",
       "1137                     সবকিছুই পরিকল্পনা মাফিক হবে  positive\n",
       "1138                     তুই কোন নরক থেকে এসেছিস রে?  negative\n",
       "1139                                এখানেই মরবি তুই।  negative\n",
       "1140  আপনি যা করেছেন তার জন্যে আপনাকে মেরে ফেলা উচিত  negative\n",
       "\n",
       "[1141 rows x 2 columns]"
      ]
     },
     "execution_count": 8,
     "metadata": {},
     "output_type": "execute_result"
    }
   ],
   "source": [
    "data"
   ]
  },
  {
   "cell_type": "code",
   "execution_count": 10,
   "metadata": {
    "colab": {
     "base_uri": "https://localhost:8080/",
     "height": 438
    },
    "id": "kcHt_pMpe58g",
    "outputId": "8ae9ee24-7398-440c-8cb0-26921d8bb30b"
   },
   "outputs": [
    {
     "data": {
      "image/png": "[encoded data removed]",
      "text/plain": [
       "<Figure size 576x432 with 1 Axes>"
      ]
     },
     "metadata": {},
     "output_type": "display_data"
    }
   ],
   "source": [
    "# Plot the Class distribution\n",
    "sns.set(font_scale=1.4)\n",
    "data['Sentiment'].value_counts().plot(kind='barh', figsize=(8, 6))\n",
    "plt.xlabel(\"Number of Articles\", labelpad=12)\n",
    "plt.ylabel(\"Sentiment\", labelpad=12)\n",
    "plt.yticks(rotation = 45)\n",
    "plt.title(\"Dataset Distribution\", y=1.02);"
   ]
  },
  {
   "cell_type": "code",
   "execution_count": 11,
   "metadata": {
    "id": "aD5OlQoze_CJ"
   },
   "outputs": [],
   "source": [
    "# Cleaning Data [Remove unncessary symbols]\n",
    "def cleaning_documents(articles):\n",
    "      '''\n",
    "      This function will clean the news articles by removing punctuation marks and stopwords.\n",
    "\n",
    "      Args:\n",
    "      articles: a news text(str)\n",
    "\n",
    "      returns:\n",
    "      news: clean text (str)\n",
    "      '''\n",
    "      news = articles.replace('\\n',' ')\n",
    "      news = re.sub('[^\\u0980-\\u09FF]',' ',str(news)) #removing unnecessary punctuation\n",
    "      # stopwords removal\n",
    "      stp = open('bangla_stopwords.txt','r').read().split()\n",
    "      result = news.split()\n",
    "      news = [word.strip() for word in result if word not in stp ]\n",
    "      news =\" \".join(news)\n",
    "      return news"
   ]
  },
  {
   "cell_type": "code",
   "execution_count": 13,
   "metadata": {
    "id": "gkec5o_1fXyV"
   },
   "outputs": [],
   "source": [
    "# Apply the function into the dataframe\n",
    "data['cleaned'] = data['Conversation'].apply(cleaning_documents)"
   ]
  },
  {
   "cell_type": "code",
   "execution_count": 15,
   "metadata": {
    "colab": {
     "base_uri": "https://localhost:8080/"
    },
    "id": "TSvOwkgFf8vn",
    "outputId": "8092b28b-534d-4b66-9230-eeeecbd5b5e6"
   },
   "outputs": [
    {
     "name": "stdout",
     "output_type": "stream",
     "text": [
      "Original:\n",
      " আমিও তার জানাজায় ছিলাম \n",
      "Cleaned:\n",
      " আমিও জানাজায় ছিলাম \n",
      " sentiment:--  negative \n",
      "\n",
      "Original:\n",
      " দুর্দান্ত তুমি কি তাতে খুশি?  হ্যাঁ, আমি শিহরিত খুঁজে পেয়েছি! \n",
      "Cleaned:\n",
      " দুর্দান্ত খুশি হ্যাঁ শিহরিত খুঁজে পেয়েছি \n",
      " sentiment:--  positive \n",
      "\n",
      "Original:\n",
      " আমার অবস্থা বর্ণনা করা কঠিন ছিল \n",
      "Cleaned:\n",
      " অবস্থা বর্ণনা কঠিন \n",
      " sentiment:--  negative \n",
      "\n",
      "Original:\n",
      " আমি সত্যিই আপনার সাথে কথা বলছি \n",
      "Cleaned:\n",
      " সত্যিই বলছি \n",
      " sentiment:--  positive \n",
      "\n",
      "Original:\n",
      " তোমার সাথে থাকাই আমার সব খুশি ছিল\n",
      " \n",
      "Cleaned:\n",
      " থাকাই খুশি \n",
      " sentiment:--  positive \n",
      "\n",
      "Original:\n",
      " তোমরা দুজনেই দেখা করার জন্য যথেষ্ট ভাগ্যবান ছিলে \n",
      "Cleaned:\n",
      " তোমরা দুজনেই ভাগ্যবান ছিলে \n",
      " sentiment:--  positive \n",
      "\n",
      "Original:\n",
      " আমার মনে হয় যে আমি তার প্রেমে পড়েছি \n",
      "Cleaned:\n",
      " প্রেমে পড়েছি \n",
      " sentiment:--  positive \n",
      "\n",
      "Original:\n",
      " আমি প্রতিজ্ঞা করব পরের বর্ষায় ফিরে আসতে \n",
      "Cleaned:\n",
      " প্রতিজ্ঞা করব পরের বর্ষায় আসতে \n",
      " sentiment:--  positive \n",
      "\n"
     ]
    }
   ],
   "source": [
    "# print some cleaned documents from the dataset\n",
    "sample_data = [5,10,16,39,57,67,70,100]\n",
    "for i in sample_data:\n",
    "  print('Original:\\n',data.Conversation[i],'\\nCleaned:\\n',\n",
    "           data.cleaned[i],'\\n','sentiment:-- ',data.Sentiment[i],'\\n')"
   ]
  },
  {
   "cell_type": "code",
   "execution_count": 16,
   "metadata": {
    "id": "2q00L8YigQBO"
   },
   "outputs": [],
   "source": [
    "# Stopwords pickle \n",
    "stp = open('bangla_stopwords.txt','r',encoding='utf-8').read().split()\n",
    "# open a file, where you ant to store the data\n",
    "file = open('bangla_stopwords.pkl', 'wb')\n",
    "# dump information to that file\n",
    "pickle.dump(stp, file)"
   ]
  },
  {
   "cell_type": "code",
   "execution_count": 17,
   "metadata": {
    "colab": {
     "base_uri": "https://localhost:8080/"
    },
    "id": "R9sQnq9cgVkH",
    "outputId": "09cb7818-1569-4f11-eb81-2f9d68f3237f"
   },
   "outputs": [
    {
     "data": {
      "text/plain": [
       "410"
      ]
     },
     "execution_count": 17,
     "metadata": {},
     "output_type": "execute_result"
    }
   ],
   "source": [
    "stp = open('bangla_stopwords.pkl','rb')\n",
    "stp = pickle.load(stp)\n",
    "len(stp)"
   ]
  },
  {
   "cell_type": "code",
   "execution_count": 18,
   "metadata": {
    "colab": {
     "base_uri": "https://localhost:8080/"
    },
    "id": "ki7SN2qkgasW",
    "outputId": "f209fde1-1559-4ea9-8982-06d2c3cb87e4"
   },
   "outputs": [
    {
     "name": "stdout",
     "output_type": "stream",
     "text": [
      "After Cleaning: \n",
      "Removed 7 Small Documents \n",
      "Total Remaining Documents: 1134\n"
     ]
    }
   ],
   "source": [
    "# Calculate the Length of each Document\n",
    "data['Length'] = data.cleaned.apply(lambda x:len(x.split()))\n",
    "\n",
    "# Remove the Documents with least words\n",
    "dataset = data.loc[data.Length>0]\n",
    "dataset = dataset.reset_index(drop = True)\n",
    "print(\"After Cleaning:\",\"\\nRemoved {} Small Documents\".format(len(data)-len(dataset)),\n",
    "      \"\\nTotal Remaining Documents:\",len(dataset))"
   ]
  },
  {
   "cell_type": "code",
   "execution_count": 19,
   "metadata": {
    "id": "KFyRyTIug3EB"
   },
   "outputs": [],
   "source": [
    "# Save the Cleaned data for reuse\n",
    "dataset.to_csv('cleaned_data.csv')"
   ]
  },
  {
   "cell_type": "code",
   "execution_count": 20,
   "metadata": {
    "colab": {
     "base_uri": "https://localhost:8080/"
    },
    "id": "0VfBN3Ncg_O5",
    "outputId": "4fcd61bd-ecf8-494c-8001-43292a5eb6b2"
   },
   "outputs": [
    {
     "data": {
      "text/plain": [
       "Index(['Unnamed: 0', 'Conversation', 'Sentiment', 'cleaned', 'Length'], dtype='object')"
      ]
     },
     "execution_count": 20,
     "metadata": {},
     "output_type": "execute_result"
    }
   ],
   "source": [
    "# Load the Cleaned News\n",
    "dataset = pd.read_csv('cleaned_data.csv')\n",
    "dataset.columns"
   ]
  },
  {
   "cell_type": "code",
   "execution_count": 21,
   "metadata": {
    "colab": {
     "base_uri": "https://localhost:8080/",
     "height": 204
    },
    "id": "BfoqMrTFzMr4",
    "outputId": "cc0ea98b-d928-42c4-df16-4e720b60319b"
   },
   "outputs": [
    {
     "data": {
      "text/html": [
       "<div>\n",
       "<style scoped>\n",
       "    .dataframe tbody tr th:only-of-type {\n",
       "        vertical-align: middle;\n",
       "    }\n",
       "\n",
       "    .dataframe tbody tr th {\n",
       "        vertical-align: top;\n",
       "    }\n",
       "\n",
       "    .dataframe thead th {\n",
       "        text-align: right;\n",
       "    }\n",
       "</style>\n",
       "<table border=\"1\" class=\"dataframe\">\n",
       "  <thead>\n",
       "    <tr style=\"text-align: right;\">\n",
       "      <th></th>\n",
       "      <th>Unnamed: 0</th>\n",
       "      <th>Conversation</th>\n",
       "      <th>Sentiment</th>\n",
       "      <th>cleaned</th>\n",
       "      <th>Length</th>\n",
       "    </tr>\n",
       "  </thead>\n",
       "  <tbody>\n",
       "    <tr>\n",
       "      <th>0</th>\n",
       "      <td>0</td>\n",
       "      <td>আমি বুথ থেকে কল দেয়ার জন্য দুঃখিত</td>\n",
       "      <td>negative</td>\n",
       "      <td>বুথ কল দেয়ার দুঃখিত</td>\n",
       "      <td>4</td>\n",
       "    </tr>\n",
       "    <tr>\n",
       "      <th>1</th>\n",
       "      <td>1</td>\n",
       "      <td>আমি তোমার সম্পর্কে দুঃখিত</td>\n",
       "      <td>negative</td>\n",
       "      <td>সম্পর্কে দুঃখিত</td>\n",
       "      <td>2</td>\n",
       "    </tr>\n",
       "    <tr>\n",
       "      <th>2</th>\n",
       "      <td>2</td>\n",
       "      <td>আমার ভয় হচ্ছিল আমি খুব ভয় পেয়েছিলাম</td>\n",
       "      <td>negative</td>\n",
       "      <td>ভয় হচ্ছিল ভয় পেয়েছিলাম</td>\n",
       "      <td>4</td>\n",
       "    </tr>\n",
       "    <tr>\n",
       "      <th>3</th>\n",
       "      <td>3</td>\n",
       "      <td>অবশ্যই ধন্যবাদ</td>\n",
       "      <td>positive</td>\n",
       "      <td>অবশ্যই ধন্যবাদ</td>\n",
       "      <td>2</td>\n",
       "    </tr>\n",
       "    <tr>\n",
       "      <th>4</th>\n",
       "      <td>4</td>\n",
       "      <td>কী সুন্দর!! আমি খুব খুশি</td>\n",
       "      <td>positive</td>\n",
       "      <td>সুন্দর খুশি</td>\n",
       "      <td>2</td>\n",
       "    </tr>\n",
       "  </tbody>\n",
       "</table>\n",
       "</div>"
      ],
      "text/plain": [
       "   Unnamed: 0                           Conversation Sentiment  \\\n",
       "0           0      আমি বুথ থেকে কল দেয়ার জন্য দুঃখিত  negative   \n",
       "1           1              আমি তোমার সম্পর্কে দুঃখিত  negative   \n",
       "2           2  আমার ভয় হচ্ছিল আমি খুব ভয় পেয়েছিলাম  negative   \n",
       "3           3                        অবশ্যই ধন্যবাদ   positive   \n",
       "4           4               কী সুন্দর!! আমি খুব খুশি  positive   \n",
       "\n",
       "                    cleaned  Length  \n",
       "0       বুথ কল দেয়ার দুঃখিত       4  \n",
       "1           সম্পর্কে দুঃখিত       2  \n",
       "2  ভয় হচ্ছিল ভয় পেয়েছিলাম       4  \n",
       "3            অবশ্যই ধন্যবাদ       2  \n",
       "4               সুন্দর খুশি       2  "
      ]
     },
     "execution_count": 21,
     "metadata": {},
     "output_type": "execute_result"
    }
   ],
   "source": [
    "dataset.head(5)"
   ]
  },
  {
   "cell_type": "code",
   "execution_count": 22,
   "metadata": {
    "colab": {
     "base_uri": "https://localhost:8080/",
     "height": 461
    },
    "id": "NzKHnb1ahCyy",
    "outputId": "2bab3ad0-a5d2-4bc4-98b2-ed1652d6d755"
   },
   "outputs": [
    {
     "data": {
      "image/png": "[encoded data removed]",
      "text/plain": [
       "<Figure size 600x400 with 1 Axes>"
      ]
     },
     "metadata": {},
     "output_type": "display_data"
    },
    {
     "name": "stdout",
     "output_type": "stream",
     "text": [
      "Maximum Length of a Document: 16\n",
      "Minimum Length of a Document: 1\n",
      "Average Length of a Document: 3.0\n"
     ]
    }
   ],
   "source": [
    "#Document length distribution\n",
    "import matplotlib\n",
    "matplotlib.rc_file_defaults()\n",
    "frequency = dict()\n",
    "for i in dataset.Length:\n",
    "    frequency[i] = frequency.get(i, 0)+1\n",
    "\n",
    "plt.figure(figsize = (6,4))\n",
    "plt.bar(frequency.keys(), frequency.values(), color=(0.2, 0.4, 0.6, 0.6))\n",
    "plt.xlim(21, 700)\n",
    "# in this notbook color is not working but it should work.\n",
    "plt.xlabel('Length of the Documents')\n",
    "plt.ylabel('Frequency')\n",
    "plt.title('Length-Frequency Distribution')\n",
    "#plt.savefig('len_dist.png',dpi = 1000,bbox_inches ='tight')\n",
    "plt.show()  \n",
    "print(f\"Maximum Length of a Document: {max(dataset.Length)}\")\n",
    "print(f\"Minimum Length of a Document: {min(dataset.Length)}\")\n",
    "print(f\"Average Length of a Document: {round(np.mean(dataset.Length),0)}\")"
   ]
  },
  {
   "cell_type": "code",
   "execution_count": 24,
   "metadata": {
    "colab": {
     "base_uri": "https://localhost:8080/"
    },
    "id": "0_LFoZXshPUu",
    "outputId": "33e1f0ac-b4f1-46b3-a4fb-d8ebd63a376f"
   },
   "outputs": [
    {
     "name": "stdout",
     "output_type": "stream",
     "text": [
      "\n",
      "Class Name :  positive\n",
      "Number of Documents:568\n",
      "Number of Words:1799\n",
      "Number of Unique Words:1039\n",
      "Most Frequent Words:\n",
      "\n",
      "সুন্দর\t29\n",
      "খুশি\t27\n",
      "জীবন\t17\n",
      "ধন্যবাদ\t16\n",
      "ভালো\t16\n",
      "পছন্দ\t15\n",
      "প্রেমে\t12\n",
      "চাই\t11\n",
      "বড়\t10\n",
      "বিয়ে\t10\n",
      "\n",
      "Class Name :  negative\n",
      "Number of Documents:566\n",
      "Number of Words:1719\n",
      "Number of Unique Words:973\n",
      "Most Frequent Words:\n",
      "\n",
      "মারা\t37\n",
      "তুই\t25\n",
      "শালা\t20\n",
      "কর\t17\n",
      "মেরে\t17\n",
      "দুঃখিত\t16\n",
      "কষ্ট\t16\n",
      "তোর\t14\n",
      "বন্ধ\t13\n",
      "চুপ\t13\n"
     ]
    }
   ],
   "source": [
    "#Dataset Summary\n",
    "def data_summary(dataset):\n",
    "\n",
    "  documents = []\n",
    "  words = []\n",
    "  u_words = []\n",
    "  #total_u_word = [word.strip().lower() for t in list(dataset.cleaned) for word in t.strip().split()]\n",
    "  # find class names\n",
    "  class_label = [k for k,v in dataset.Sentiment.value_counts().to_dict().items()]\n",
    "  for label in class_label: \n",
    "    word_list = [word.strip().lower() for t in list(dataset[dataset.Sentiment==label].cleaned) for word in t.strip().split()]\n",
    "    counts = dict()\n",
    "    for word in word_list:\n",
    "      counts[word] = counts.get(word, 0)+1\n",
    "    # sort the dictionary of word list  \n",
    "    ordered = sorted(counts.items(), key= lambda item: item[1],reverse = True)\n",
    "    # Documents per class\n",
    "    documents.append(len(list(dataset[dataset.Sentiment==label].cleaned)))\n",
    "    # Total Word per class\n",
    "    words.append(len(word_list))\n",
    "    # Unique words per class \n",
    "    u_words.append(len(np.unique(word_list)))\n",
    "       \n",
    "    print(\"\\nClass Name : \",label)\n",
    "    print(\"Number of Documents:{}\".format(len(list(dataset[dataset.Sentiment==label].cleaned))))  \n",
    "    print(\"Number of Words:{}\".format(len(word_list))) \n",
    "    print(\"Number of Unique Words:{}\".format(len(np.unique(word_list)))) \n",
    "    print(\"Most Frequent Words:\\n\")\n",
    "    for k,v in ordered[:10]:\n",
    "      print(\"{}\\t{}\".format(k,v))\n",
    "  return documents,words,u_words,class_label\n",
    "\n",
    "# pass the whole dataset into the function\n",
    "\n",
    "documents,words,u_words,class_names = data_summary(dataset)"
   ]
  },
  {
   "cell_type": "code",
   "execution_count": 25,
   "metadata": {
    "colab": {
     "base_uri": "https://localhost:8080/",
     "height": 107
    },
    "id": "uNmQLje6hc4Y",
    "outputId": "e7809f45-f0e2-4e34-efd5-06e85fca26d4"
   },
   "outputs": [
    {
     "data": {
      "text/html": [
       "<div>\n",
       "<style scoped>\n",
       "    .dataframe tbody tr th:only-of-type {\n",
       "        vertical-align: middle;\n",
       "    }\n",
       "\n",
       "    .dataframe tbody tr th {\n",
       "        vertical-align: top;\n",
       "    }\n",
       "\n",
       "    .dataframe thead th {\n",
       "        text-align: right;\n",
       "    }\n",
       "</style>\n",
       "<table border=\"1\" class=\"dataframe\">\n",
       "  <thead>\n",
       "    <tr style=\"text-align: right;\">\n",
       "      <th></th>\n",
       "      <th>Total Documents</th>\n",
       "      <th>Total Words</th>\n",
       "      <th>Unique Words</th>\n",
       "      <th>Class Names</th>\n",
       "    </tr>\n",
       "  </thead>\n",
       "  <tbody>\n",
       "    <tr>\n",
       "      <th>0</th>\n",
       "      <td>568</td>\n",
       "      <td>1799</td>\n",
       "      <td>1039</td>\n",
       "      <td>positive</td>\n",
       "    </tr>\n",
       "    <tr>\n",
       "      <th>1</th>\n",
       "      <td>566</td>\n",
       "      <td>1719</td>\n",
       "      <td>973</td>\n",
       "      <td>negative</td>\n",
       "    </tr>\n",
       "  </tbody>\n",
       "</table>\n",
       "</div>"
      ],
      "text/plain": [
       "   Total Documents  Total Words  Unique Words Class Names\n",
       "0              568         1799          1039    positive\n",
       "1              566         1719           973    negative"
      ]
     },
     "execution_count": 25,
     "metadata": {},
     "output_type": "execute_result"
    }
   ],
   "source": [
    "data_matrix = pd.DataFrame({'Total Documents':documents,\n",
    "                            'Total Words':words,\n",
    "                            'Unique Words':u_words,\n",
    "                            'Class Names':class_names})\n",
    "data_matrix"
   ]
  },
  {
   "cell_type": "code",
   "execution_count": 26,
   "metadata": {
    "colab": {
     "base_uri": "https://localhost:8080/",
     "height": 557
    },
    "id": "jK8IqKZjidHZ",
    "outputId": "d7dd2cc9-4347-4bda-9812-5815c285dbd3"
   },
   "outputs": [
    {
     "data": {
      "image/png": "[encoded data removed]",
      "text/plain": [
       "<Figure size 600x500 with 2 Axes>"
      ]
     },
     "metadata": {},
     "output_type": "display_data"
    }
   ],
   "source": [
    "#Data Summary Visualization\n",
    "sns.set()\n",
    "plt.figure(figsize =(6, 5))\n",
    "ax = plt.subplot()\n",
    "sns.heatmap(data_matrix.iloc[:,0:3], annot=True,fmt=\"d\", linewidths=0.5,linecolor = 'Black',cmap = \"YlGnBu\",ax = ax)\n",
    "# labels, title and ticks\n",
    "ax.set_ylabel('Class Names') \n",
    "ax.set_title('Data Statistics')\n",
    "y_label = [\"Total Documents\", \"Total Words\", \"Unique Words\"] \n",
    "ax.xaxis.set_ticklabels(y_label, rotation=45); ax.yaxis.set_ticklabels(class_names, rotation=45);\n",
    "ax.xaxis.tick_top()"
   ]
  },
  {
   "cell_type": "code",
   "execution_count": 32,
   "metadata": {
    "id": "AmMPzuFRjkba"
   },
   "outputs": [],
   "source": [
    "#===========================================================\n",
    "                   ################# Label Encoding Function ##################\n",
    "                   #===========================================================\n",
    "def label_encoding(dataset,bool):\n",
    "\n",
    "  le = LabelEncoder()\n",
    "  le.fit(dataset.Sentiment)\n",
    "  encoded_labels = le.transform(dataset.Sentiment)\n",
    "  labels = np.array(encoded_labels) # Converting into numpy array\n",
    "  class_names =le.classes_ ## Define the class names again\n",
    "  if bool == True:\n",
    "    print(color.BOLD+\"\\n\\t\\t\\t===== Label Encoding =====\"+color.END,\"\\nClass Names:-->\",le.classes_)\n",
    "  return labels  \n",
    "\n",
    "                   #===========================================================\n",
    "                   ################# Dataset Splitting Function ###############\n",
    "                   #=========================================================== \n",
    "\n",
    "def dataset_split(news,category):\n",
    "  '''\n",
    "  This function will split the dataset into Train-Test-Validation set\n",
    "\n",
    "  Args:\n",
    "  news: encoded texts\n",
    "  category: class names\n",
    "\n",
    "  returns:\n",
    "  X_train: Encoded Training News  \n",
    "  X_valid: Encoded Validation News\n",
    "  X_test:  Encoded Test news\n",
    "  y_train: Encoded Training labels\n",
    "  y_valid: Encoded Validation labels\n",
    "  y_test:  Encoded Test labels\n",
    "  '''\n",
    "\n",
    "  X,X_test,y,y_test = train_test_split(news,category,train_size = 0.9,\n",
    "                                                  test_size = 0.1,random_state =0)\n",
    "  X_train,X_valid,y_train,y_valid = train_test_split(X,y,train_size = 0.8,\n",
    "                                                  test_size = 0.2,random_state =0)\n",
    "  print(color.BOLD+\"Feature Size :======>\"+color.END,X_train.shape[1])\n",
    "  print(color.BOLD+\"\\nDataset Distribution:\\n\"+color.END)\n",
    "  print(\"\\tSet Name\",\"\\t\\tSize\")\n",
    "  print(\"\\t========\\t\\t======\")\n",
    "\n",
    "  print(\"\\tFull\\t\\t\\t\",news.shape[0],\n",
    "        \"\\n\\tTraining\\t\\t\",X_train.shape[0],\n",
    "        \"\\n\\tTest\\t\\t\\t\",X_test.shape[0],\n",
    "        \"\\n\\tValidation\\t\\t\",X_valid.shape[0])\n",
    "  \n",
    "  return X_train,X_valid,X_test,y_train,y_valid,y_test"
   ]
  },
  {
   "cell_type": "code",
   "execution_count": 33,
   "metadata": {
    "colab": {
     "base_uri": "https://localhost:8080/"
    },
    "id": "BFeu8EsFjmW0",
    "outputId": "1559a5c8-cffe-4ee2-f272-3389fc62abd6"
   },
   "outputs": [
    {
     "name": "stdout",
     "output_type": "stream",
     "text": [
      "\u001b[1m\t\t\t====== Tokenizer Info ======\u001b[0m\n",
      "Words --> Counts:\n",
      "মারা \t 37\n",
      "তুই \t 31\n",
      "সুন্দর \t 29\n",
      "খুশি \t 27\n",
      "কর \t 22\n",
      "জীবন \t 20\n",
      "শালা \t 20\n",
      "তোর \t 18\n",
      "কষ্ট \t 17\n",
      "পছন্দ \t 17\n",
      "\n",
      "Words --> Documents:\n",
      "মারা \t 36\n",
      "সুন্দর \t 29\n",
      "তুই \t 29\n",
      "খুশি \t 27\n",
      "কর \t 22\n",
      "জীবন \t 20\n",
      "শালা \t 20\n",
      "পছন্দ \t 17\n",
      "দুঃখিত \t 16\n",
      "কষ্ট \t 16\n",
      "\n",
      "Words --> Index:\n",
      "ফেলা \t 1767\n",
      "মরবি \t 1766\n",
      "মাফিক \t 1765\n",
      "সবকিছুই \t 1764\n",
      "আছেন৷ \t 1763\n",
      "বিপদে \t 1762\n",
      "চোর৷ \t 1761\n",
      "ঠকিয়েছে \t 1760\n",
      "শয়তান \t 1759\n",
      "ছেলেটার \t 1758\n",
      "\n",
      "Total Documents --> 1134\n",
      "\u001b[1m\n",
      "\t\t\t====== Encoded Sequences ======\u001b[0m \n",
      "Found 1767 unique tokens\n",
      "দুর্দান্ত খুশি হ্যাঁ শিহরিত খুঁজে পেয়েছি \n",
      " [152, 5, 214, 589, 79, 102]\n",
      "\n",
      "\t\t\t====== Paded Sequences ======\n",
      " দুর্দান্ত খুশি হ্যাঁ শিহরিত খুঁজে পেয়েছি \n",
      " [152   5 214 589  79 102   0   0   0   0   0   0   0   0   0   0   0   0\n",
      "   0   0   0   0   0   0   0   0   0   0   0   0   0   0   0   0   0   0\n",
      "   0   0   0   0   0   0   0   0   0   0   0   0   0   0   0   0   0   0\n",
      "   0   0   0   0   0   0   0   0   0   0   0   0   0   0   0   0   0   0\n",
      "   0   0   0   0   0   0   0   0   0   0   0   0   0   0   0   0   0   0\n",
      "   0   0   0   0   0   0   0   0   0   0   0   0   0   0   0   0   0   0\n",
      "   0   0   0   0   0   0   0   0   0   0   0   0   0   0   0   0   0   0\n",
      "   0   0   0   0   0   0   0   0   0   0   0   0   0   0   0   0   0   0\n",
      "   0   0   0   0   0   0   0   0   0   0   0   0   0   0   0   0   0   0\n",
      "   0   0   0   0   0   0   0   0   0   0   0   0   0   0   0   0   0   0\n",
      "   0   0   0   0   0   0   0   0   0   0   0   0   0   0   0   0   0   0\n",
      "   0   0   0   0   0   0   0   0   0   0   0   0   0   0   0   0   0   0\n",
      "   0   0   0   0   0   0   0   0   0   0   0   0   0   0   0   0   0   0\n",
      "   0   0   0   0   0   0   0   0   0   0   0   0   0   0   0   0   0   0\n",
      "   0   0   0   0   0   0   0   0   0   0   0   0   0   0   0   0   0   0\n",
      "   0   0   0   0   0   0   0   0   0   0   0   0   0   0   0   0   0   0\n",
      "   0   0   0   0   0   0   0   0   0   0   0   0]\n",
      "\u001b[1m\n",
      "\t\t\t===== Label Encoding =====\u001b[0m \n",
      "Class Names:--> ['negative' 'positive']\n",
      "\n",
      "Shape of Encoded Corpus =====> (1134, 300)\n"
     ]
    }
   ],
   "source": [
    "def encoded_texts(dataset,padding_length,max_words):\n",
    "\n",
    "  '''\n",
    "  This function will encoded the text into a sequence of numbers\n",
    "\n",
    "  Args:\n",
    "  dataset: a dataset\n",
    "  padding_length: maximum length of a encoded texte\n",
    "  max_words : Number of words \n",
    "\n",
    "  returns:\n",
    "  corpus: Number of encoded texts\n",
    "  labels: encoded labels\n",
    "  '''\n",
    "  \n",
    "  tokenizer = Tokenizer(num_words = max_words, filters='!\"#$%&()*+,-./:;<=>?@[\\\\]^_`{|}~\\t\\n-', \n",
    "                      split=' ', char_level=False, oov_token='<oov>', document_count=0)\n",
    "  \n",
    " \n",
    "\n",
    " # Fit the tokenizer\n",
    "  tokenizer.fit_on_texts(dataset.cleaned)\n",
    "  #============================== Tokenizer Info =================================\n",
    "  (word_counts,word_docs,word_index,document_count) = (tokenizer.word_counts,\n",
    "                                                       tokenizer.word_docs,\n",
    "                                                       tokenizer.word_index,\n",
    "                                                       tokenizer.document_count)\n",
    "  def tokenizer_info(mylist,bool):\n",
    "    ordered = sorted(mylist.items(), key= lambda item: item[1],reverse = bool)\n",
    "    for w,c in ordered[:10]:\n",
    "      print(w,\"\\t\",c)\n",
    "  #=============================== Print all the information =========================\n",
    "  print(color.BOLD+\"\\t\\t\\t====== Tokenizer Info ======\"+color.END)   \n",
    "  print(\"Words --> Counts:\")\n",
    "  tokenizer_info(word_counts,bool =True )\n",
    "  print(\"\\nWords --> Documents:\")\n",
    "  tokenizer_info(word_docs,bool =True )\n",
    "  print(\"\\nWords --> Index:\")\n",
    "  tokenizer_info(word_index,bool =True )    \n",
    "  print(\"\\nTotal Documents -->\",document_count)\n",
    "\n",
    "  #=========================== Convert string into list of integer indices =================\n",
    "  sequences = tokenizer.texts_to_sequences(dataset.cleaned)\n",
    "  word_index = tokenizer.word_index\n",
    "  print(color.BOLD+\"\\n\\t\\t\\t====== Encoded Sequences ======\"+color.END,\"\\nFound {} unique tokens\".format(len(word_index)))  \n",
    "  print(dataset.cleaned[10],\"\\n\",sequences[10]) \n",
    "\n",
    "  #==================================== Pad Sequences ============================== \n",
    "  corpus = keras.preprocessing.sequence.pad_sequences(sequences, value=0.0,\n",
    "                                                      padding='post', maxlen= padding_length)\n",
    "  print(\"\\n\\t\\t\\t====== Paded Sequences ======\\n\",dataset.cleaned[10],\"\\n\",corpus[10])   \n",
    "\n",
    "  #=================================     Label Encoding ================================\n",
    "  labels = label_encoding(dataset,True)\n",
    "\n",
    "   # save the tokenizer into a pickle file\n",
    "  with open('tokenizer.pickle', 'wb') as handle:\n",
    "    pickle.dump(tokenizer, handle, protocol=pickle.HIGHEST_PROTOCOL)\n",
    "\n",
    "  return corpus,labels\n",
    "  \n",
    "#call the function\n",
    "num_words = 5000\n",
    "corpus,labels = encoded_texts(dataset,\n",
    "                                300,num_words)\n",
    "print(\"\\nShape of Encoded Corpus =====>\",corpus.shape)"
   ]
  },
  {
   "cell_type": "code",
   "execution_count": 34,
   "metadata": {
    "colab": {
     "base_uri": "https://localhost:8080/"
    },
    "id": "UyzSr1bwj5-H",
    "outputId": "5b866cc3-a713-4ac3-86f6-c1257ba52067"
   },
   "outputs": [
    {
     "name": "stdout",
     "output_type": "stream",
     "text": [
      "\u001b[1mFeature Size :======>\u001b[0m 300\n",
      "\u001b[1m\n",
      "Dataset Distribution:\n",
      "\u001b[0m\n",
      "\tSet Name \t\tSize\n",
      "\t========\t\t======\n",
      "\tFull\t\t\t 1134 \n",
      "\tTraining\t\t 816 \n",
      "\tTest\t\t\t 114 \n",
      "\tValidation\t\t 204\n"
     ]
    }
   ],
   "source": [
    "#Call Dataset Validation\n",
    "X_train,X_valid,X_test,y_train,y_valid,y_test = dataset_split(corpus,labels)"
   ]
  },
  {
   "cell_type": "code",
   "execution_count": 35,
   "metadata": {
    "colab": {
     "base_uri": "https://localhost:8080/"
    },
    "id": "L7vRx7d4kFfR",
    "outputId": "98bfee36-29dd-4f41-d403-87ee56ccb91e"
   },
   "outputs": [
    {
     "name": "stdout",
     "output_type": "stream",
     "text": [
      "Model: \"sequential_1\"\n",
      "_________________________________________________________________\n",
      "Layer (type)                 Output Shape              Param #   \n",
      "=================================================================\n",
      "embedding_1 (Embedding)      (None, 300, 128)          640000    \n",
      "_________________________________________________________________\n",
      "conv1d_1 (Conv1D)            (None, 296, 128)          82048     \n",
      "_________________________________________________________________\n",
      "max_pooling1d_1 (MaxPooling1 (None, 59, 128)           0         \n",
      "_________________________________________________________________\n",
      "bidirectional_2 (Bidirection (None, 59, 128)           98816     \n",
      "_________________________________________________________________\n",
      "bidirectional_3 (Bidirection (None, 59, 128)           98816     \n",
      "_________________________________________________________________\n",
      "dense_3 (Dense)              (None, 59, 28)            3612      \n",
      "_________________________________________________________________\n",
      "dense_4 (Dense)              (None, 59, 14)            406       \n",
      "_________________________________________________________________\n",
      "flatten_1 (Flatten)          (None, 826)               0         \n",
      "_________________________________________________________________\n",
      "dense_5 (Dense)              (None, 2)                 1654      \n",
      "=================================================================\n",
      "Total params: 925,352\n",
      "Trainable params: 925,352\n",
      "Non-trainable params: 0\n",
      "_________________________________________________________________\n",
      "Epoch 1/10\n"
     ]
    },
    {
     "name": "stderr",
     "output_type": "stream",
     "text": [
      "2021-08-06 15:59:34.877931: I tensorflow/compiler/mlir/mlir_graph_optimization_pass.cc:176] None of the MLIR Optimization Passes are enabled (registered 2)\n",
      "2021-08-06 15:59:34.896355: I tensorflow/core/platform/profile_utils/cpu_utils.cc:114] CPU Frequency: 2400000000 Hz\n"
     ]
    },
    {
     "name": "stdout",
     "output_type": "stream",
     "text": [
      "7/7 [==============================] - 10s 640ms/step - loss: 0.6950 - accuracy: 0.4853 - val_loss: 0.6943 - val_accuracy: 0.4608\n",
      "Epoch 2/10\n",
      "7/7 [==============================] - 3s 426ms/step - loss: 0.6933 - accuracy: 0.4890 - val_loss: 0.6944 - val_accuracy: 0.4608\n",
      "Epoch 3/10\n",
      "7/7 [==============================] - 3s 438ms/step - loss: 0.6935 - accuracy: 0.4743 - val_loss: 0.6970 - val_accuracy: 0.4608\n",
      "Epoch 4/10\n",
      "7/7 [==============================] - 3s 412ms/step - loss: 0.6937 - accuracy: 0.5098 - val_loss: 0.6960 - val_accuracy: 0.4608\n",
      "Epoch 5/10\n",
      "7/7 [==============================] - 3s 411ms/step - loss: 0.6937 - accuracy: 0.5098 - val_loss: 0.6943 - val_accuracy: 0.4608\n",
      "Epoch 6/10\n",
      "7/7 [==============================] - 3s 411ms/step - loss: 0.6914 - accuracy: 0.5184 - val_loss: 0.6888 - val_accuracy: 0.6814\n",
      "Epoch 7/10\n",
      "7/7 [==============================] - 3s 413ms/step - loss: 0.6749 - accuracy: 0.7574 - val_loss: 0.6683 - val_accuracy: 0.5392\n",
      "Epoch 8/10\n",
      "7/7 [==============================] - 3s 413ms/step - loss: 0.5041 - accuracy: 0.8272 - val_loss: 0.7785 - val_accuracy: 0.6373\n",
      "Epoch 9/10\n",
      "7/7 [==============================] - 3s 412ms/step - loss: 0.1749 - accuracy: 0.9510 - val_loss: 0.5662 - val_accuracy: 0.8186\n",
      "Epoch 10/10\n",
      "7/7 [==============================] - 3s 413ms/step - loss: 0.0527 - accuracy: 0.9804 - val_loss: 0.8267 - val_accuracy: 0.8039\n"
     ]
    }
   ],
   "source": [
    "embedding_dimension = 128\n",
    "input_length = 300\n",
    "vocab_size = 5000\n",
    "num_classes = 2\n",
    "batch_size = 128\n",
    "num_epochs = 10\n",
    "\n",
    "accuracy_threshold = 0.97\n",
    "\n",
    "\n",
    "class myCallback(keras.callbacks.Callback):\n",
    "  def on_epoch_end(self, epoch, logs={}):\n",
    "      if(logs.get('accuracy')>accuracy_threshold):\n",
    "        print(\"\\nReached %2.2f%% accuracy so we will stop trianing\" % (accuracy_threshold*100))\n",
    "        self.model.stop_training = True\n",
    "\n",
    "acc_callback = myCallback()\n",
    "# Saved the Best Model\n",
    "filepath = \"Model.h5\"\n",
    "checkpoint = keras.callbacks.ModelCheckpoint(filepath, monitor='val_accuracy', verbose=2, save_best_only=True, \n",
    "                                             save_weights_only=False, mode='max')\n",
    "# callback list\n",
    "callback_list = [acc_callback, checkpoint] \n",
    "\n",
    "                            ###############################     CNN network architecture ################\n",
    "model = tf.keras.models.Sequential([\n",
    "tf.keras.layers.Embedding(vocab_size, embedding_dimension, input_length = input_length),\n",
    "tf.keras.layers.Conv1D(128, 5, activation= 'relu'),\n",
    "tf.keras.layers.MaxPooling1D(5),\n",
    "tf.keras.layers.Bidirectional(LSTM(64, return_sequences=True,dropout = 0.1)),\n",
    "tf.keras.layers.Bidirectional(LSTM(64, return_sequences=True,dropout = 0.1)),\n",
    "tf.keras.layers.Dense(28, activation='relu'),\n",
    "tf.keras.layers.Dense(14, activation='relu'),\n",
    "keras.layers.Flatten(),\n",
    "tf.keras.layers.Dense(num_classes , activation='softmax')])\n",
    "\n",
    "model.summary()\n",
    "\n",
    "model.compile(optimizer=keras.optimizers.Adam(),\n",
    "    loss='sparse_categorical_crossentropy',\n",
    "    metrics=['accuracy'])\n",
    "   \n",
    "history = model.fit(X_train,\n",
    "    y_train,\n",
    "    epochs=num_epochs,\n",
    "    batch_size = batch_size,\n",
    "    validation_data=(X_valid, y_valid),\n",
    "    verbose =1)\n",
    "    #callbacks = callback_list)"
   ]
  },
  {
   "cell_type": "code",
   "execution_count": 36,
   "metadata": {
    "id": "I8j1_MQ8kVSb"
   },
   "outputs": [],
   "source": [
    "# save the model\n",
    "tf.keras.models.save_model(model, 'Document_Categorization.h5', save_format='h5')\n",
    "#model.save('Document_Categorization.h5')"
   ]
  },
  {
   "cell_type": "code",
   "execution_count": 31,
   "metadata": {
    "colab": {
     "base_uri": "https://localhost:8080/",
     "height": 497
    },
    "id": "uqj6LuJ5kiOI",
    "outputId": "65a0e0a0-49e6-4d29-f051-7a4aea711d7b"
   },
   "outputs": [
    {
     "ename": "NameError",
     "evalue": "name 'history' is not defined",
     "output_type": "error",
     "traceback": [
      "\u001b[0;31m---------------------------------------------------------------------------\u001b[0m",
      "\u001b[0;31mNameError\u001b[0m                                 Traceback (most recent call last)",
      "\u001b[0;32m/tmp/ipykernel_27828/2746217791.py\u001b[0m in \u001b[0;36m<module>\u001b[0;34m\u001b[0m\n\u001b[0;32m----> 1\u001b[0;31m \u001b[0mloss_values\u001b[0m \u001b[0;34m=\u001b[0m \u001b[0mhistory\u001b[0m\u001b[0;34m.\u001b[0m\u001b[0mhistory\u001b[0m\u001b[0;34m[\u001b[0m\u001b[0;34m'loss'\u001b[0m\u001b[0;34m]\u001b[0m\u001b[0;34m\u001b[0m\u001b[0;34m\u001b[0m\u001b[0m\n\u001b[0m\u001b[1;32m      2\u001b[0m \u001b[0mval_loss_values\u001b[0m \u001b[0;34m=\u001b[0m \u001b[0mhistory\u001b[0m\u001b[0;34m.\u001b[0m\u001b[0mhistory\u001b[0m\u001b[0;34m[\u001b[0m\u001b[0;34m'val_loss'\u001b[0m\u001b[0;34m]\u001b[0m\u001b[0;34m\u001b[0m\u001b[0;34m\u001b[0m\u001b[0m\n\u001b[1;32m      3\u001b[0m \u001b[0macc\u001b[0m \u001b[0;34m=\u001b[0m \u001b[0mhistory\u001b[0m\u001b[0;34m.\u001b[0m\u001b[0mhistory\u001b[0m\u001b[0;34m[\u001b[0m\u001b[0;34m'accuracy'\u001b[0m\u001b[0;34m]\u001b[0m\u001b[0;34m\u001b[0m\u001b[0;34m\u001b[0m\u001b[0m\n\u001b[1;32m      4\u001b[0m \u001b[0mval_acc\u001b[0m \u001b[0;34m=\u001b[0m \u001b[0mhistory\u001b[0m\u001b[0;34m.\u001b[0m\u001b[0mhistory\u001b[0m\u001b[0;34m[\u001b[0m\u001b[0;34m'val_accuracy'\u001b[0m\u001b[0;34m]\u001b[0m\u001b[0;34m\u001b[0m\u001b[0;34m\u001b[0m\u001b[0m\n\u001b[1;32m      5\u001b[0m \u001b[0mepochs\u001b[0m \u001b[0;34m=\u001b[0m \u001b[0mrange\u001b[0m\u001b[0;34m(\u001b[0m\u001b[0;36m1\u001b[0m\u001b[0;34m,\u001b[0m \u001b[0mlen\u001b[0m\u001b[0;34m(\u001b[0m\u001b[0macc\u001b[0m\u001b[0;34m)\u001b[0m \u001b[0;34m+\u001b[0m \u001b[0;36m1\u001b[0m\u001b[0;34m)\u001b[0m\u001b[0;34m\u001b[0m\u001b[0;34m\u001b[0m\u001b[0m\n",
      "\u001b[0;31mNameError\u001b[0m: name 'history' is not defined"
     ]
    }
   ],
   "source": [
    "loss_values = history.history['loss']\n",
    "val_loss_values = history.history['val_loss']\n",
    "acc = history.history['accuracy']\n",
    "val_acc = history.history['val_accuracy']\n",
    "epochs = range(1, len(acc) + 1)\n",
    "sns.set_style('darkgrid')\n",
    "                  #=========================================================\n",
    "                  ############### Epochs vs Validation Accuracy Plot ##########\n",
    "                  #==========================================================\n",
    "\n",
    "plt.plot(epochs, acc, color='midnightblue', linewidth = 2, \n",
    "          marker='o', markersize=8,label='Training Accuracy')\n",
    "plt.plot(epochs, val_acc, color='darkred', linewidth = 2, \n",
    "          marker='o', markersize=8,label='Training Accuracy')\n",
    "plt.title('Training and validation accuracy',fontsize=12,fontweight='bold')\n",
    "plt.xlabel('Epochs',fontsize=12,fontweight='bold')\n",
    "plt.ylabel('Accuracy',fontsize=12,fontweight='bold')\n",
    "plt.legend(['Training Accuracy','Validation Accuracy'])"
   ]
  },
  {
   "cell_type": "code",
   "execution_count": null,
   "metadata": {
    "colab": {
     "base_uri": "https://localhost:8080/",
     "height": 497
    },
    "id": "eAXDbqmKpynZ",
    "outputId": "61a09b62-c1ef-4881-f12d-f17e078d76ad"
   },
   "outputs": [],
   "source": [
    "plt.plot(epochs, loss_values, color='midnightblue', linewidth = 2, \n",
    "          marker='o', markersize=8,label='Training Accuracy')\n",
    "plt.plot(epochs, val_loss_values, color='darkred', linewidth = 2, \n",
    "          marker='o', markersize=8,label='Training Accuracy')\n",
    "plt.title('Training and validation accuracy',fontsize=12,fontweight='bold')\n",
    "plt.xlabel('Epochs',fontsize=12,fontweight='bold')\n",
    "plt.ylabel('Accuracy',fontsize=12,fontweight='bold')\n",
    "plt.legend(['Training loss','Validation loss'])"
   ]
  },
  {
   "cell_type": "code",
   "execution_count": null,
   "metadata": {
    "id": "YAuqlrLEkskr"
   },
   "outputs": [],
   "source": [
    "# Load the saved model\n",
    "model = load_model('Document_Categorization.h5')"
   ]
  },
  {
   "cell_type": "code",
   "execution_count": null,
   "metadata": {
    "colab": {
     "base_uri": "https://localhost:8080/",
     "height": 204
    },
    "id": "55QDdPsYp9F_",
    "outputId": "4739ac87-3647-431e-f068-89f62a93485c"
   },
   "outputs": [],
   "source": [
    "#class_names = ['anger' ,'happy' ,'neutral', 'sad']\n",
    "class_names = ['positive' ,'negative']\n",
    "predictions = model.predict(X_test)\n",
    "y_pred = np.argmax(predictions, axis=1)\n",
    "report = pd.DataFrame(classification_report(y_true = y_test, y_pred = y_pred, output_dict=True)).transpose()\n",
    "report = report.rename(index={'0': 'positive','1':'negative'})\n",
    "report[['precision','recall','f1-score']]=report[['precision','recall','f1-score']].apply(lambda x: round(x*100,2))\n",
    "report"
   ]
  },
  {
   "cell_type": "code",
   "execution_count": null,
   "metadata": {
    "colab": {
     "base_uri": "https://localhost:8080/",
     "height": 636
    },
    "id": "4tZy2M61qe5T",
    "outputId": "d58667a6-7160-4de6-816d-c5e0cdd681ed"
   },
   "outputs": [],
   "source": [
    "#Confusion Matrix\n",
    "from sklearn.metrics import classification_report, confusion_matrix\n",
    "predictions = model.predict(X_test)\n",
    "y_pred = np.argmax(predictions, axis=1)\n",
    "\n",
    "cm = confusion_matrix(y_test, y_pred) \n",
    "\n",
    "class_names = ['positive' ,'negative']\n",
    "# Transform to df for easier plotting\n",
    "cm_df = pd.DataFrame(cm,\n",
    "                     index = class_names, \n",
    "                     columns = class_names)\n",
    "\n",
    "plt.figure(figsize=(8,6))\n",
    "sns.heatmap(cm_df, annot=True,cmap=\"Greens\", fmt='g')\n",
    "plt.title('CNN-BiLSTM \\nAccuracy: {0:.2f}'.format(accuracy_score(y_test, y_pred)*100))\n",
    "plt.ylabel('True label')\n",
    "plt.xlabel('Predicted label')\n",
    "plt.xticks(rotation = 45)\n",
    "plt.yticks(rotation = 45)\n",
    "plt.show()"
   ]
  },
  {
   "cell_type": "code",
   "execution_count": null,
   "metadata": {
    "colab": {
     "base_uri": "https://localhost:8080/",
     "height": 35
    },
    "id": "CzjfHH3kmdn4",
    "outputId": "3e907232-25a4-4d5e-855b-90a924e04c9c"
   },
   "outputs": [],
   "source": [
    "sample_news = 'আসতেছে আমার'\n",
    "cleaned_news = cleaning_documents(sample_news)\n",
    "\n",
    "#class_names = ['anger', 'happy', 'neutral', 'sad']\n",
    "class_names = ['positive' ,'negative']\n",
    "\n",
    "#print(cleaned_news)\n",
    "# load the saved tokenizer\n",
    "with open('tokenizer.pickle', 'rb') as handle:\n",
    "    loaded_tokenizer = pickle.load(handle)\n",
    "#print(len(loaded_tokenizer.word_index))\n",
    "seq= loaded_tokenizer.texts_to_sequences([cleaned_news])\n",
    "padded = pad_sequences(seq, value=0.0,padding='post', maxlen= 300 )\n",
    "pred = model.predict(padded)\n",
    "#print(pred) \n",
    "class_names[np.argmax(pred)]"
   ]
  },
  {
   "cell_type": "code",
   "execution_count": null,
   "metadata": {
    "colab": {
     "base_uri": "https://localhost:8080/"
    },
    "id": "uEmc6phg2TTw",
    "outputId": "9fc89895-8fdc-4676-99e8-b22895fcc3d9"
   },
   "outputs": [],
   "source": [
    "# print top most classes\n",
    "y_pred = pred.reshape(-1)\n",
    "class_labels=[(class_names[i],round(prob*100,2)) for i,prob in enumerate(y_pred) if prob > 0.1]\n",
    "\n",
    "for k, v in class_labels:\n",
    "  print(k,'====>',v,'%')"
   ]
  }
 ],
 "metadata": {
  "colab": {
   "collapsed_sections": [],
   "name": "Final_NLP_M1.ipynb",
   "provenance": []
  },
  "kernelspec": {
   "display_name": "Python 3 (ipykernel)",
   "language": "python",
   "name": "python3"
  },
  "language_info": {
   "codemirror_mode": {
    "name": "ipython",
    "version": 3
   },
   "file_extension": ".py",
   "mimetype": "text/x-python",
   "name": "python",
   "nbconvert_exporter": "python",
   "pygments_lexer": "ipython3",
   "version": "3.8.10"
  }
 },
 "nbformat": 4,
 "nbformat_minor": 1
}
